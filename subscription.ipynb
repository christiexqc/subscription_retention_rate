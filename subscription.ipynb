{
 "cells": [
  {
   "cell_type": "code",
   "execution_count": 1,
   "metadata": {},
   "outputs": [
    {
     "name": "stderr",
     "output_type": "stream",
     "text": [
      "//miniconda3/lib/python3.7/site-packages/statsmodels/tools/_testing.py:19: FutureWarning: pandas.util.testing is deprecated. Use the functions in the public API at pandas.testing instead.\n",
      "  import pandas.util.testing as tm\n"
     ]
    }
   ],
   "source": [
    "%matplotlib inline\n",
    "import numpy as np\n",
    "import scipy\n",
    "import pandas\n",
    "import matplotlib.pyplot as plt\n",
    "#import statsmodels.formula.api as sm\n",
    "import seaborn as sns\n",
    "import sklearn as sl\n",
    "from sklearn import preprocessing\n",
    "import warnings\n",
    "warnings.filterwarnings('ignore')\n",
    "pandas.set_option('display.max_columns', 20)\n",
    "pandas.set_option('display.width', 350)"
   ]
  },
  {
   "cell_type": "code",
   "execution_count": 2,
   "metadata": {},
   "outputs": [],
   "source": [
    "data=pandas.read_csv('./dataset/subscription.csv')"
   ]
  },
  {
   "cell_type": "code",
   "execution_count": 3,
   "metadata": {},
   "outputs": [
    {
     "data": {
      "text/html": [
       "<div>\n",
       "<style scoped>\n",
       "    .dataframe tbody tr th:only-of-type {\n",
       "        vertical-align: middle;\n",
       "    }\n",
       "\n",
       "    .dataframe tbody tr th {\n",
       "        vertical-align: top;\n",
       "    }\n",
       "\n",
       "    .dataframe thead th {\n",
       "        text-align: right;\n",
       "    }\n",
       "</style>\n",
       "<table border=\"1\" class=\"dataframe\">\n",
       "  <thead>\n",
       "    <tr style=\"text-align: right;\">\n",
       "      <th></th>\n",
       "      <th>user_id</th>\n",
       "      <th>subscription_signup_date</th>\n",
       "      <th>subscription_monthly_cost</th>\n",
       "      <th>country</th>\n",
       "      <th>source</th>\n",
       "      <th>billing_cycles</th>\n",
       "      <th>is_active</th>\n",
       "    </tr>\n",
       "  </thead>\n",
       "  <tbody>\n",
       "    <tr>\n",
       "      <th>0</th>\n",
       "      <td>1459</td>\n",
       "      <td>January, 2015</td>\n",
       "      <td>29</td>\n",
       "      <td>Spain</td>\n",
       "      <td>ads</td>\n",
       "      <td>4</td>\n",
       "      <td>0</td>\n",
       "    </tr>\n",
       "    <tr>\n",
       "      <th>1</th>\n",
       "      <td>12474</td>\n",
       "      <td>January, 2015</td>\n",
       "      <td>49</td>\n",
       "      <td>France</td>\n",
       "      <td>ads</td>\n",
       "      <td>5</td>\n",
       "      <td>0</td>\n",
       "    </tr>\n",
       "    <tr>\n",
       "      <th>2</th>\n",
       "      <td>12294</td>\n",
       "      <td>January, 2015</td>\n",
       "      <td>49</td>\n",
       "      <td>Germany</td>\n",
       "      <td>ads</td>\n",
       "      <td>2</td>\n",
       "      <td>0</td>\n",
       "    </tr>\n",
       "    <tr>\n",
       "      <th>3</th>\n",
       "      <td>3878</td>\n",
       "      <td>January, 2015</td>\n",
       "      <td>49</td>\n",
       "      <td>China</td>\n",
       "      <td>ads</td>\n",
       "      <td>1</td>\n",
       "      <td>0</td>\n",
       "    </tr>\n",
       "    <tr>\n",
       "      <th>4</th>\n",
       "      <td>9567</td>\n",
       "      <td>January, 2015</td>\n",
       "      <td>49</td>\n",
       "      <td>UK</td>\n",
       "      <td>ads</td>\n",
       "      <td>5</td>\n",
       "      <td>0</td>\n",
       "    </tr>\n",
       "  </tbody>\n",
       "</table>\n",
       "</div>"
      ],
      "text/plain": [
       "   user_id subscription_signup_date  subscription_monthly_cost  country source  billing_cycles  is_active\n",
       "0     1459            January, 2015                         29    Spain    ads               4          0\n",
       "1    12474            January, 2015                         49   France    ads               5          0\n",
       "2    12294            January, 2015                         49  Germany    ads               2          0\n",
       "3     3878            January, 2015                         49    China    ads               1          0\n",
       "4     9567            January, 2015                         49       UK    ads               5          0"
      ]
     },
     "execution_count": 3,
     "metadata": {},
     "output_type": "execute_result"
    }
   ],
   "source": [
    "data.head()"
   ]
  },
  {
   "cell_type": "markdown",
   "metadata": {},
   "source": [
    "# Q: A model that predicts monthly retention rate for the different subscription price points"
   ]
  },
  {
   "cell_type": "markdown",
   "metadata": {},
   "source": [
    "Most of data science today focuses on building machine learning models, and specifically binary classification models. However, there are quite a few situations where, if you want to predict something, you need to fit a curve. Building a retention curve is one of the most common ones.\n",
    "\n",
    "The standard approach to this is:\n",
    "\n",
    "1) Try to see if the relationship is linear. If yes, build a linear regression and you are done.\n",
    "\n",
    "2) If the relationship is not linear, try to see if some standard non-linear transformation of the variables can lead to a linear relationship\n",
    "\n",
    "3) If 2 also fails, use more flexible models. Gam is probably the most common one. Actually, some suggest to just use gam no matter what since there are no significant downsides in using it and you are pretty much guaranteed to get same or better predictions compared to linear regressions. While this is true from a statistical standpoint, from a product DS standpoint there are significant advantages in using a linear regression when it comes to communicating your work to non-technical people."
   ]
  },
  {
   "cell_type": "code",
   "execution_count": 4,
   "metadata": {},
   "outputs": [
    {
     "data": {
      "text/plain": [
       "<matplotlib.axes._subplots.AxesSubplot at 0x1a164d6e48>"
      ]
     },
     "execution_count": 4,
     "metadata": {},
     "output_type": "execute_result"
    },
    {
     "data": {
      "image/png": "[encoded data removed]",
      "text/plain": [
       "<Figure size 432x288 with 1 Axes>"
      ]
     },
     "metadata": {
      "needs_background": "light"
     },
     "output_type": "display_data"
    }
   ],
   "source": [
    "#firstly get count by billing cycle and price point\n",
    "retention_rate_data_points = data.groupby(['subscription_monthly_cost', 'billing_cycles']).size().reset_index(name = 'tmp_count_billing')\n",
    "  \n",
    "#then estimate retention rate: cumulative sum by billing cycle divided by total users gives churn rate\n",
    "#i.e. 1 - churn_rate is actual retention rate\n",
    "retention_rate_data_points['retention_rate'] = retention_rate_data_points.groupby('subscription_monthly_cost')['tmp_count_billing'].transform(\n",
    "                                               lambda x: 1-x.cumsum()/x.sum()\n",
    "                                               )\n",
    "  \n",
    "# remove tmp_count_billing column and billing cycle == 8 because those are still active\n",
    "retention_rate_data_points = retention_rate_data_points.drop('tmp_count_billing', 1).query('billing_cycles < 8')\n",
    "  \n",
    "#plot them\n",
    "sns.lineplot(x=\"billing_cycles\", y=\"retention_rate\", \n",
    "             hue=\"subscription_monthly_cost\", data=retention_rate_data_points, legend=\"full\"\n",
    "             )"
   ]
  },
  {
   "cell_type": "code",
   "execution_count": 5,
   "metadata": {},
   "outputs": [
    {
     "data": {
      "text/html": [
       "<div>\n",
       "<style scoped>\n",
       "    .dataframe tbody tr th:only-of-type {\n",
       "        vertical-align: middle;\n",
       "    }\n",
       "\n",
       "    .dataframe tbody tr th {\n",
       "        vertical-align: top;\n",
       "    }\n",
       "\n",
       "    .dataframe thead th {\n",
       "        text-align: right;\n",
       "    }\n",
       "</style>\n",
       "<table border=\"1\" class=\"dataframe\">\n",
       "  <thead>\n",
       "    <tr style=\"text-align: right;\">\n",
       "      <th></th>\n",
       "      <th>subscription_monthly_cost</th>\n",
       "      <th>billing_cycles</th>\n",
       "      <th>retention_rate</th>\n",
       "    </tr>\n",
       "  </thead>\n",
       "  <tbody>\n",
       "    <tr>\n",
       "      <th>0</th>\n",
       "      <td>29</td>\n",
       "      <td>1</td>\n",
       "      <td>0.607542</td>\n",
       "    </tr>\n",
       "    <tr>\n",
       "      <th>1</th>\n",
       "      <td>29</td>\n",
       "      <td>2</td>\n",
       "      <td>0.458473</td>\n",
       "    </tr>\n",
       "    <tr>\n",
       "      <th>2</th>\n",
       "      <td>29</td>\n",
       "      <td>3</td>\n",
       "      <td>0.376232</td>\n",
       "    </tr>\n",
       "    <tr>\n",
       "      <th>3</th>\n",
       "      <td>29</td>\n",
       "      <td>4</td>\n",
       "      <td>0.323028</td>\n",
       "    </tr>\n",
       "    <tr>\n",
       "      <th>4</th>\n",
       "      <td>29</td>\n",
       "      <td>5</td>\n",
       "      <td>0.285416</td>\n",
       "    </tr>\n",
       "    <tr>\n",
       "      <th>5</th>\n",
       "      <td>29</td>\n",
       "      <td>6</td>\n",
       "      <td>0.257157</td>\n",
       "    </tr>\n",
       "    <tr>\n",
       "      <th>6</th>\n",
       "      <td>29</td>\n",
       "      <td>7</td>\n",
       "      <td>0.235901</td>\n",
       "    </tr>\n",
       "  </tbody>\n",
       "</table>\n",
       "</div>"
      ],
      "text/plain": [
       "   subscription_monthly_cost  billing_cycles  retention_rate\n",
       "0                         29               1        0.607542\n",
       "1                         29               2        0.458473\n",
       "2                         29               3        0.376232\n",
       "3                         29               4        0.323028\n",
       "4                         29               5        0.285416\n",
       "5                         29               6        0.257157\n",
       "6                         29               7        0.235901"
      ]
     },
     "execution_count": 5,
     "metadata": {},
     "output_type": "execute_result"
    }
   ],
   "source": [
    "retention_rate_data_points.query('subscription_monthly_cost==29')"
   ]
  },
  {
   "cell_type": "markdown",
   "metadata": {},
   "source": [
    "For instance, for the cheapest price point, 40% of people churn after only 1 billing cycle, 15% after 2, 8% after 3, and so on. In a situation like that, a logarithm transformation can help make the relationship linear. Also, retention rate cannot be negative. Using log(billing_cycle) and log(retention_rate) in the regressions as variables should therefore help both ways: make the relationship more linear and make sure retention won’t be negative."
   ]
  },
  {
   "cell_type": "code",
   "execution_count": 6,
   "metadata": {},
   "outputs": [
    {
     "data": {
      "text/plain": [
       "<matplotlib.axes._subplots.AxesSubplot at 0x1a164f35c0>"
      ]
     },
     "execution_count": 6,
     "metadata": {},
     "output_type": "execute_result"
    },
    {
     "data": {
      "image/png": "[encoded data removed]",
      "text/plain": [
       "<Figure size 432x288 with 1 Axes>"
      ]
     },
     "metadata": {
      "needs_background": "light"
     },
     "output_type": "display_data"
    }
   ],
   "source": [
    "# create new feature using logs\n",
    "retention_rate_data_points[\"billing_log\"] = np.log(retention_rate_data_points[\"billing_cycles\"])\n",
    " \n",
    "retention_rate_data_points[\"retention_rate_log\"] = np.log(retention_rate_data_points[\"retention_rate\"])\n",
    " \n",
    "#plot \n",
    "sns.lineplot(x=\"billing_log\", y=\"retention_rate_log\", \n",
    "             hue=\"subscription_monthly_cost\", data=retention_rate_data_points, legend=\"full\"\n",
    "             )"
   ]
  },
  {
   "cell_type": "code",
   "execution_count": 7,
   "metadata": {},
   "outputs": [],
   "source": [
    "import statsmodels.api as sm\n",
    "  \n",
    "#build linear model for price 29\n",
    "y29 = retention_rate_data_points.query('subscription_monthly_cost==29')['retention_rate_log']\n",
    "X29 = retention_rate_data_points.query('subscription_monthly_cost==29')['billing_log']\n",
    "X29 = sm.add_constant(X29)\n",
    "model29 = sm.OLS(y29, X29)\n",
    "results29 = model29.fit()"
   ]
  },
  {
   "cell_type": "code",
   "execution_count": 10,
   "metadata": {},
   "outputs": [
    {
     "name": "stdout",
     "output_type": "stream",
     "text": [
      "R Squared for 29$ is: 0.99\n",
      "R Squared for 49$ is: 1.0\n",
      "R Squared for 99$ is: 1.0\n"
     ]
    }
   ],
   "source": [
    "print(\"R Squared for 29$ is:\", round(results29.rsquared,2))\n",
    "#build linear model for price 49\n",
    "y49 = retention_rate_data_points.query('subscription_monthly_cost==49')['retention_rate_log']\n",
    "X49 = retention_rate_data_points.query('subscription_monthly_cost==49')['billing_log']\n",
    "X49 = sm.add_constant(X49)\n",
    "  \n",
    "model49 = sm.OLS(y49, X49)\n",
    "results49 = model49.fit()\n",
    "print(\"R Squared for 49$ is:\", round(results49.rsquared,2))\n",
    "#build linear model for price 99\n",
    "y99 = retention_rate_data_points.query('subscription_monthly_cost==99')['retention_rate_log']\n",
    "X99 = retention_rate_data_points.query('subscription_monthly_cost==99')['billing_log']\n",
    "X99 = sm.add_constant(X99)\n",
    "  \n",
    "model99 = sm.OLS(y99, X99)\n",
    "results99 = model99.fit()\n",
    "print(\"R Squared for 99$ is:\", round(results99.rsquared,2))"
   ]
  },
  {
   "cell_type": "markdown",
   "metadata": {},
   "source": [
    "Looks like a good fit for all of them. If this hadn’t worked, we could have tried additional transformations or simply gam."
   ]
  },
  {
   "cell_type": "markdown",
   "metadata": {},
   "source": [
    "# Q: Based on your model, for each price point, what percentage of users is still subscribed after at least 12 months?"
   ]
  },
  {
   "cell_type": "markdown",
   "metadata": {},
   "source": [
    "Now we can simply feed the regression with billing cycles up to 12 and get the output."
   ]
  },
  {
   "cell_type": "code",
   "execution_count": 11,
   "metadata": {},
   "outputs": [
    {
     "name": "stdout",
     "output_type": "stream",
     "text": [
      "[-1.48549968 -1.54324007 -1.5948906  -1.64161419 -1.68426949]\n",
      "[0.22638919 0.21368762 0.20293073 0.19366717 0.18557995]\n",
      "For the 29$ price point, after 1 year, we will retain 0.186 of our customers\n",
      "For the 49$ price point, after 1 year, we will retain 0.029 of our customers\n",
      "For the 99$ price point, after 1 year, we will retain 0.008 of our customers\n"
     ]
    }
   ],
   "source": [
    "#make the predictions\n",
    "Xpred = np.log(range(8,13))\n",
    "Xpred = sm.add_constant(Xpred)\n",
    "print(results29.predict(Xpred))\n",
    "#However, our regression is actually predicting log(retention_rate). To get retention rate, we need to take the exponential of those predictions\n",
    "print(np.exp(results29.predict(Xpred)))\n",
    "print(\"For the 29$ price point, after 1 year, we will retain\", \n",
    "      round(np.exp(results29.predict(Xpred))[4], 3), \n",
    "     \"of our customers\")\n",
    "#Do the same for the other price points.\n",
    "print(\"For the 49$ price point, after 1 year, we will retain\", \n",
    "      round(np.exp(results49.predict(Xpred))[4], 3), \n",
    "     \"of our customers\")\n",
    "print(\"For the 99$ price point, after 1 year, we will retain\", \n",
    "      round(np.exp(results99.predict(Xpred))[4], 3), \n",
    "     \"of our customers\")"
   ]
  },
  {
   "cell_type": "markdown",
   "metadata": {},
   "source": [
    "Let’s get for each price point the average customer one year value. This can be defined as customer LTV.\n"
   ]
  },
  {
   "cell_type": "code",
   "execution_count": 12,
   "metadata": {},
   "outputs": [
    {
     "name": "stdout",
     "output_type": "stream",
     "text": [
      "Avg LTV of customers paying 29$ a month is: 132.0 dollars\n",
      "Avg LTV of customers paying 49$ a month is: 107.0 dollars\n",
      "Avg LTV of customers paying 99$ a month is: 139.0 dollars\n"
     ]
    }
   ],
   "source": [
    "#our models work well enough that we can directly use their predictions for all 12 billing cycle to estimate customer LTV.\n",
    "  \n",
    "Xpred = np.log(range(1,13))\n",
    "Xpred = sm.add_constant(Xpred)\n",
    "#Firstly get retention rate for each billing cycle\n",
    "retention_rate_tmp = np.exp(results29.predict(Xpred))\n",
    "#Then get overall expected value by multiplying each probability * corresponding money at each billing cycle.\n",
    "LTV_29 = 29 + sum(retention_rate_tmp * 29)\n",
    "print(\"Avg LTV of customers paying 29$ a month is:\", round(LTV_29), \"dollars\")\n",
    "#do it for other price points\n",
    "retention_rate_tmp = np.exp(results49.predict(Xpred))\n",
    "LTV_49 = 49 + sum(retention_rate_tmp * 49)\n",
    "print(\"Avg LTV of customers paying 49$ a month is:\", round(LTV_49), \"dollars\")\n",
    "retention_rate_tmp = np.exp(results99.predict(Xpred))\n",
    "LTV_99 = 99 + sum(retention_rate_tmp * 99)\n",
    "print(\"Avg LTV of customers paying 99$ a month is:\", round(LTV_99), \"dollars\")"
   ]
  },
  {
   "cell_type": "markdown",
   "metadata": {},
   "source": [
    "Therefore, the highest LTV is for users paying 99 dollars. However, considering that 29 has a much higher 1 year retention rate, if we had taken a larger time window to define LTV, 29 would have likely been the best one."
   ]
  },
  {
   "cell_type": "markdown",
   "metadata": {},
   "source": [
    "# Q: How do user country and source affect subscription retention rate? How would you use these findings to improve the company revenue?"
   ]
  },
  {
   "cell_type": "markdown",
   "metadata": {},
   "source": [
    "As a first step, let’s see the proportion of users that are still active after 8 months for the different price points by country and source to see if there are any major differences.\n",
    "\n",
    "Let’s check by country first:"
   ]
  },
  {
   "cell_type": "code",
   "execution_count": 13,
   "metadata": {},
   "outputs": [
    {
     "data": {
      "text/plain": [
       "<matplotlib.axes._subplots.AxesSubplot at 0x1a179fd198>"
      ]
     },
     "execution_count": 13,
     "metadata": {},
     "output_type": "execute_result"
    },
    {
     "data": {
      "image/png": "[encoded data removed]",
      "text/plain": [
       "<Figure size 432x288 with 1 Axes>"
      ]
     },
     "metadata": {
      "needs_background": "light"
     },
     "output_type": "display_data"
    }
   ],
   "source": [
    "#group by country and price and check retention rate as defined above\n",
    "country_retention = data.groupby(['country', 'subscription_monthly_cost']).apply(\n",
    "                    lambda x: pandas.Series({\n",
    "                             # active users\n",
    "                            'retention_rate': x['is_active'].mean(),\n",
    "                             # total count by price and country\n",
    "                            'count': x['is_active'].count(),\n",
    "                            # avg revenue by price and country\n",
    "                            'revenue' : (x['subscription_monthly_cost'] * x['billing_cycles']).mean()\n",
    "  })\n",
    ").reset_index()\n",
    "      \n",
    "#Let's plot retention rate by country and price\n",
    "sns.barplot(x=\"country\", hue=\"subscription_monthly_cost\", y=\"retention_rate\", data=country_retention)"
   ]
  },
  {
   "cell_type": "code",
   "execution_count": 14,
   "metadata": {},
   "outputs": [
    {
     "data": {
      "text/plain": [
       "<matplotlib.axes._subplots.AxesSubplot at 0x1a17956c18>"
      ]
     },
     "execution_count": 14,
     "metadata": {},
     "output_type": "execute_result"
    },
    {
     "data": {
      "image/png": "[encoded data removed]",
      "text/plain": [
       "<Figure size 432x288 with 1 Axes>"
      ]
     },
     "metadata": {
      "needs_background": "light"
     },
     "output_type": "display_data"
    }
   ],
   "source": [
    "#Let's plot user count by country and price\n",
    "sns.barplot(x=\"country\", hue=\"subscription_monthly_cost\", y=\"count\", data=country_retention)"
   ]
  },
  {
   "cell_type": "code",
   "execution_count": 16,
   "metadata": {},
   "outputs": [
    {
     "data": {
      "text/plain": [
       "<matplotlib.axes._subplots.AxesSubplot at 0x1a1b3f5f28>"
      ]
     },
     "execution_count": 16,
     "metadata": {},
     "output_type": "execute_result"
    },
    {
     "data": {
      "image/png": "[encoded data removed]",
      "text/plain": [
       "<Figure size 432x288 with 1 Axes>"
      ]
     },
     "metadata": {
      "needs_background": "light"
     },
     "output_type": "display_data"
    }
   ],
   "source": [
    "#Let's find out for each country avg user revenue within the first 8 months\n",
    "sns.barplot(x=\"country\", hue=\"subscription_monthly_cost\", y=\"revenue\", data=country_retention)"
   ]
  },
  {
   "cell_type": "markdown",
   "metadata": {},
   "source": [
    "# Findings:"
   ]
  },
  {
   "cell_type": "markdown",
   "metadata": {},
   "source": [
    "China and India have huge retention rate for the cheapest price point. Maybe too good to be true? A deep dive would be useful to understand why. They are also much more likely to choose the 29$ option compared to the other countries\n",
    "\n",
    "\n",
    "India and China best price point is the cheapest one. For all other countries, the best price point is the most expensive one. However, unfortunately, all countries have the highest proportion of subscribers for the middle price! Exactly the opposite of what we would like to have!!\n",
    "If we could shift users towards the optimal price point, this would increase user LTV, and that would have several positive effects, beside the obvious revenue gain. For instance, higher LTV means that we could bid higher for ads, and therefore grow much faster\n",
    "\n",
    "\n",
    "The goal is essentially to make given price points more attractive on a country basis. A way to achieve this would be to change the UI so that, for each country, the optimal price point is more prominent.\n",
    "Another approach could be to look into how users from each country are using the product. Figure out what they like the most and then play around with each price point features in such a way that the best price has the most attractive features for each country.\n",
    "Another approach could be targeted/regional coupons\n",
    "\n",
    "\n",
    "The good news is that, although retention is a long term metric, it is actually very easy to predict long term retention just by looking at the first month or so. That makes so much easier to run A/B tests and iterate fast.\n",
    "\n",
    "\n",
    "\n",
    "Let’s now do the same for source:"
   ]
  },
  {
   "cell_type": "code",
   "execution_count": 17,
   "metadata": {},
   "outputs": [],
   "source": [
    "#group by source and price and check retention rate as defined above\n",
    "source_retention = data.groupby(['source', 'subscription_monthly_cost']).apply(\n",
    "                    lambda x: pandas.Series({\n",
    "                             # active users\n",
    "                            'retention_rate': x['is_active'].mean(),\n",
    "                             # total count by price and source\n",
    "                            'count': x['is_active'].count(),\n",
    "                            # avg revenue by price and source\n",
    "                            'revenue' : (x['subscription_monthly_cost'] * x['billing_cycles']).mean()\n",
    "  })\n",
    ").reset_index()\n",
    "      \n",
    "#Let's plot retention rate by source and price"
   ]
  },
  {
   "cell_type": "code",
   "execution_count": 18,
   "metadata": {},
   "outputs": [
    {
     "data": {
      "text/plain": [
       "<matplotlib.axes._subplots.AxesSubplot at 0x1a1b58dda0>"
      ]
     },
     "execution_count": 18,
     "metadata": {},
     "output_type": "execute_result"
    },
    {
     "data": {
      "image/png": "[encoded data removed]",
      "text/plain": [
       "<Figure size 432x288 with 1 Axes>"
      ]
     },
     "metadata": {
      "needs_background": "light"
     },
     "output_type": "display_data"
    }
   ],
   "source": [
    "sns.barplot(x=\"source\", hue=\"subscription_monthly_cost\", y=\"retention_rate\", data=source_retention)"
   ]
  },
  {
   "cell_type": "code",
   "execution_count": 19,
   "metadata": {},
   "outputs": [
    {
     "data": {
      "text/plain": [
       "<matplotlib.axes._subplots.AxesSubplot at 0x1a1b656b38>"
      ]
     },
     "execution_count": 19,
     "metadata": {},
     "output_type": "execute_result"
    },
    {
     "data": {
      "image/png": "[encoded data removed]",
      "text/plain": [
       "<Figure size 432x288 with 1 Axes>"
      ]
     },
     "metadata": {
      "needs_background": "light"
     },
     "output_type": "display_data"
    }
   ],
   "source": [
    "#Let's plot user count by source and price\n",
    "sns.barplot(x=\"source\", hue=\"subscription_monthly_cost\", y=\"count\", data=source_retention)"
   ]
  },
  {
   "cell_type": "code",
   "execution_count": 20,
   "metadata": {},
   "outputs": [
    {
     "data": {
      "text/plain": [
       "<matplotlib.axes._subplots.AxesSubplot at 0x1a1aae9278>"
      ]
     },
     "execution_count": 20,
     "metadata": {},
     "output_type": "execute_result"
    },
    {
     "data": {
      "image/png": "[encoded data removed]",
      "text/plain": [
       "<Figure size 432x288 with 1 Axes>"
      ]
     },
     "metadata": {
      "needs_background": "light"
     },
     "output_type": "display_data"
    }
   ],
   "source": [
    "#Let's find out for each source avg user revenue within the first 8 months\n",
    "sns.barplot(x=\"source\", hue=\"subscription_monthly_cost\", y=\"revenue\", data=source_retention)"
   ]
  },
  {
   "cell_type": "markdown",
   "metadata": {},
   "source": [
    "# Findings:"
   ]
  },
  {
   "cell_type": "markdown",
   "metadata": {},
   "source": [
    "The high majority of users is coming from ads. Unfortunately, these users have the lowest retention and, consequently, the lowest LTV. Even worse, those ads are mainly attracting 49$ customers. That’s highly inefficient. Ads campaigns should be optimized to attract customers with higher likelihood of buying the optimal price point\n",
    "\n",
    "\n",
    "Friend referral is doing really well, but has very low absolute numbers. Increasing this is a big opportunity. And btw the discount that is usually given to referred users can also be used as a leverage for the price discussion from above\n",
    "\n",
    "\n",
    "SEO is also doing better than ads in terms of retention, but there are way less users. This is also a big opportunity, especially because SEO is the only one that doesn’t cost anything.\n",
    "\n",
    "\n",
    "Overall these findings can be super useful especially for marketing. We found several segments that are doing well, but are under represented as a proportion of total users. And these are by far the best/most actionable insights to give the marketing team."
   ]
  },
  {
   "cell_type": "code",
   "execution_count": null,
   "metadata": {},
   "outputs": [],
   "source": []
  }
 ],
 "metadata": {
  "kernelspec": {
   "display_name": "Python 3",
   "language": "python",
   "name": "python3"
  },
  "language_info": {
   "codemirror_mode": {
    "name": "ipython",
    "version": 3
   },
   "file_extension": ".py",
   "mimetype": "text/x-python",
   "name": "python",
   "nbconvert_exporter": "python",
   "pygments_lexer": "ipython3",
   "version": "3.7.3"
  }
 },
 "nbformat": 4,
 "nbformat_minor": 2
}
